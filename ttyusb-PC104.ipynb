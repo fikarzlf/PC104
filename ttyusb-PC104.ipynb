{
 "cells": [
  {
   "cell_type": "markdown",
   "metadata": {},
   "source": [
    "# Probing Serial Ports from Terminal Command\n",
    "python -m serial.tools.list_ports\n",
    "\n",
    "\n",
    "# sudo chmod 666 /dev/ttyUSB0\n",
    "\n",
    "\n",
    "# Open RS-232 and Send Command\n",
    "import serial\n",
    "ser=serial.Serial('/dev/ttyUSB0', 38400, timeout=0.1)\n",
    "ser.write('#A00C10D0000\\r\\n'.encode())\n",
    "ser.write('#A00C1FD0148\\n'.encode())   \n",
    "Command=ser.read(14) # 小括號內可以填入一次要讀取的byte數\n",
    "print(Command)\n",
    "ser.close()"
   ]
  },
  {
   "cell_type": "code",
   "execution_count": 145,
   "metadata": {},
   "outputs": [
    {
     "name": "stdout",
     "output_type": "stream",
     "text": [
      "Voltage Setting is OK\n",
      "20\n",
      "40\n",
      "60\n",
      "80\n",
      "100\n",
      "120\n",
      "140\n",
      "160\n",
      "180\n",
      "200\n",
      "220\n",
      "240\n",
      "260\n",
      "280\n",
      "300\n"
     ]
    }
   ],
   "source": [
    "from operator import mod\n",
    "from time import sleep\n",
    "import serial\n",
    "\n",
    "Channel=[\"#A00C10D\",\"#A00C11D\",\"#A00C12D\"] # Channel 1,2,3\n",
    "vset=[];NewChannel=[];V=[];DeltaV=[];VNew=[];TotalCommand=[];NewChannelc=[];Vc=[];DeltaVc=[];VNewc=[];TotalCommandc=[]\n",
    "V=[1100,1100,1600]                         # V_ini\n",
    "dV=[0,1,1]                                 # dv\n",
    "\n",
    "LoopN=300               # Set Loop Number\n",
    "Sleep=0.3                  # Set Sleep Time\n",
    "\n",
    "for x in range(0,LoopN):\n",
    "    for i in range(0,3):\n",
    "        NewChannel.append(Channel[i])\n",
    "        \n",
    "        if dV[i]==0:\n",
    "           V1=\"%04x\" % round((V[i])*32.7675)                # 65535/2000=32.7675\n",
    "           VNew.append(V1)\n",
    "           TotalCommand.append(Channel[i]+V1+'\\n')\n",
    "        else:\n",
    "           V1=\"%04x\" % round((V[i]+x*dV[i])*32.7675)           # 65535/2000=32.7675\n",
    "           VNew.append(V1)   \n",
    "           TotalCommand.append(Channel[i]+V1+'\\n')      \n",
    "\n",
    "#print(TotalCommand)\n",
    "print('Voltage Setting is OK')\n",
    "\n",
    "count=0\n",
    "countM=[]\n",
    "#Open rs232 and Send Command for Channel1 to Channel 3\n",
    "ser=serial.Serial('/dev/ttyUSB0', 38400, timeout=0.1)\n",
    "for num in range(0,len(TotalCommand)):\n",
    "    Output=TotalCommand[num]\n",
    "    \n",
    " \n",
    "    if mod(num+1,3)==0:   #complete one cycle\n",
    "        ser.write(Output.encode())\n",
    "        sleep(Sleep)\n",
    "        count=count+1\n",
    "        #countM.append(count)\n",
    "        if mod(count,20)==0:\n",
    "            print(count)\n",
    "    else:\n",
    "        ser.write(Output.encode())\n",
    "\n",
    "ser.close()\n"
   ]
  },
  {
   "cell_type": "code",
   "execution_count": 4,
   "metadata": {},
   "outputs": [],
   "source": [
    "def I2C(V):\n",
    "    V=V/841 \n",
    "    V=int(V*819)\n",
    "    Bit1=hex(int(V/256))\n",
    "    Bit2=hex(int(V%256))\n",
    "    return Bit1,Bit2"
   ]
  },
  {
   "cell_type": "code",
   "execution_count": 5,
   "metadata": {},
   "outputs": [
    {
     "data": {
      "text/plain": [
       "('0xf', '0x37')"
      ]
     },
     "execution_count": 5,
     "metadata": {},
     "output_type": "execute_result"
    }
   ],
   "source": [
    "I2C(4000)"
   ]
  },
  {
   "cell_type": "code",
   "execution_count": 2,
   "metadata": {},
   "outputs": [],
   "source": [
    "import smbus2\n",
    "i2c=smbus2.SMBus(0)\n",
    "#i2c.write_byte_data(0x60,0x00,0x00)  #\n",
    "i2c.write_byte_data(0x60,0x0f,0x37) #\n",
    "#i2c.write_byte_data(0x60,0x0F,0xff) #"
   ]
  },
  {
   "cell_type": "markdown",
   "metadata": {},
   "source": [
    "chmod a+rw /dev/i2c-0"
   ]
  },
  {
   "cell_type": "code",
   "execution_count": 5,
   "metadata": {},
   "outputs": [],
   "source": [
    "import smbus2\n",
    "i2c=smbus2.SMBus(0)\n",
    "i2c.write_byte_data(0x61,0x00,0x00)  #  For HV Fix  \n",
    "i2c.write_byte_data(0x60,0x00,0x00)  #  For Esi\n",
    "#i2c.write_byte_data(0x60,0x0F,0xff) #"
   ]
  }
 ],
 "metadata": {
  "kernelspec": {
   "display_name": "Python 3",
   "language": "python",
   "name": "python3"
  },
  "language_info": {
   "codemirror_mode": {
    "name": "ipython",
    "version": 3
   },
   "file_extension": ".py",
   "mimetype": "text/x-python",
   "name": "python",
   "nbconvert_exporter": "python",
   "pygments_lexer": "ipython3",
   "version": "3.6.3"
  }
 },
 "nbformat": 4,
 "nbformat_minor": 2
}
